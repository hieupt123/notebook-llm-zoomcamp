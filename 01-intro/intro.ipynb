{
 "cells": [
  {
   "cell_type": "code",
   "execution_count": null,
   "id": "8e849d59-e4f1-406e-ba20-4a85f9fe6886",
   "metadata": {},
   "outputs": [],
   "source": [
    "import openai"
   ]
  },
  {
   "cell_type": "code",
   "execution_count": null,
   "id": "17a872e0-6910-487b-9c84-afb1537d51f0",
   "metadata": {},
   "outputs": [
    {
     "name": "stdout",
     "output_type": "stream",
     "text": [
      "Ah, the ultimate question! According to the Hitchhiker's Guide to the Galaxy, the answer to the meaning of life, the universe, and everything is **42**. However, the characters in the story find this answer unsatisfying because they realize they don't actually know what the real question is. \n",
      "\n",
      "So, if you're looking for a deeper explanation:\n",
      "\n",
      "- **Life:** It's about finding your own purpose, experiencing joy, love, growth, and contributing positively to the world.\n",
      "- **The Universe:** An ever-expanding playground of mysteries waiting to be explored, with each discovery leading to more questions.\n",
      "- **Everything:** Well, that's just everything else, from the mundane to the extraordinary, all part of the grand tapestry of existence.\n",
      "\n",
      "But remember, the true meaning might be more personal and unique to each individual. What do you think it might be for you?\n"
     ]
    }
   ],
   "source": [
    "import os\n",
    "from openai import OpenAI\n",
    "\n",
    "XAI_API_KEY = os.getenv(\"XAI_API_KEY\")\n",
    "client = OpenAI(\n",
    "    api_key=XAI_API_KEY,\n",
    "    base_url=\"https://api.x.ai/v1\",\n",
    ")\n",
    "\n",
    "completion = client.chat.completions.create(\n",
    "    model=\"grok-beta\",\n",
    "    messages=[\n",
    "        {\"role\": \"system\", \"content\": \"You are Grok, a chatbot inspired by the Hitchhikers Guide to the Galaxy.\"},\n",
    "        {\"role\": \"user\", \"content\": \"What is the meaning of life, the universe, and everything?\"},\n",
    "    ],\n",
    ")\n",
    "\n",
    "print(completion.choices[0].message.content)\n"
   ]
  },
  {
   "cell_type": "code",
   "execution_count": null,
   "id": "956e706e-1a68-4f3a-92fe-b390d20ef018",
   "metadata": {},
   "outputs": [],
   "source": []
  }
 ],
 "metadata": {
  "kernelspec": {
   "display_name": "Python 3 (ipykernel)",
   "language": "python",
   "name": "python3"
  },
  "language_info": {
   "codemirror_mode": {
    "name": "ipython",
    "version": 3
   },
   "file_extension": ".py",
   "mimetype": "text/x-python",
   "name": "python",
   "nbconvert_exporter": "python",
   "pygments_lexer": "ipython3",
   "version": "3.12.1"
  }
 },
 "nbformat": 4,
 "nbformat_minor": 5
}
